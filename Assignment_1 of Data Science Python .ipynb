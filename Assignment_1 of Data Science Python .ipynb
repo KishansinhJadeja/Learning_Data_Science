{
  "nbformat": 4,
  "nbformat_minor": 0,
  "metadata": {
    "colab": {
      "provenance": [],
      "authorship_tag": "ABX9TyMmTU08tco9pAgXdMqLqdxO",
      "include_colab_link": true
    },
    "kernelspec": {
      "name": "python3",
      "display_name": "Python 3"
    },
    "language_info": {
      "name": "python"
    }
  },
  "cells": [
    {
      "cell_type": "markdown",
      "metadata": {
        "id": "view-in-github",
        "colab_type": "text"
      },
      "source": [
        "<a href=\"https://colab.research.google.com/github/KishansinhJadeja/Learning_Data_Science/blob/main/Assignment_1%20of%20Data%20Science%20Python%20.ipynb\" target=\"_parent\"><img src=\"https://colab.research.google.com/assets/colab-badge.svg\" alt=\"Open In Colab\"/></a>"
      ]
    },
    {
      "cell_type": "markdown",
      "source": [
        "Q1. Creating one variable containing following type of data:"
      ],
      "metadata": {
        "id": "DWdUPkrctyKH"
      }
    },
    {
      "cell_type": "code",
      "source": [
        "a=\"Rahul\""
      ],
      "metadata": {
        "id": "-d05bkn5uBC8"
      },
      "execution_count": null,
      "outputs": []
    },
    {
      "cell_type": "code",
      "source": [
        "type(a)"
      ],
      "metadata": {
        "colab": {
          "base_uri": "https://localhost:8080/"
        },
        "id": "rBXoPsrNuC2h",
        "outputId": "bc3ae724-6c0d-43f9-cd86-8e34340ee68b"
      },
      "execution_count": null,
      "outputs": [
        {
          "output_type": "execute_result",
          "data": {
            "text/plain": [
              "str"
            ]
          },
          "metadata": {},
          "execution_count": 4
        }
      ]
    },
    {
      "cell_type": "code",
      "source": [
        "b=[2,5,7,True,2+10j,\"Adi\",2.2565,(5,6,7,8,9)]"
      ],
      "metadata": {
        "id": "cyEIrLljuFGY"
      },
      "execution_count": null,
      "outputs": []
    },
    {
      "cell_type": "code",
      "source": [
        "type(b)"
      ],
      "metadata": {
        "colab": {
          "base_uri": "https://localhost:8080/"
        },
        "id": "YiB-Wx_-uS4P",
        "outputId": "739efda0-fd74-4624-c647-66420d8512cd"
      },
      "execution_count": null,
      "outputs": [
        {
          "output_type": "execute_result",
          "data": {
            "text/plain": [
              "list"
            ]
          },
          "metadata": {},
          "execution_count": 6
        }
      ]
    },
    {
      "cell_type": "code",
      "source": [
        "b[6]"
      ],
      "metadata": {
        "colab": {
          "base_uri": "https://localhost:8080/"
        },
        "id": "1Xcom3URupHv",
        "outputId": "eed87abe-b84a-4072-be16-5737e36ff4f5"
      },
      "execution_count": null,
      "outputs": [
        {
          "output_type": "execute_result",
          "data": {
            "text/plain": [
              "2.2565"
            ]
          },
          "metadata": {},
          "execution_count": 9
        }
      ]
    },
    {
      "cell_type": "code",
      "source": [
        "type(b[6])"
      ],
      "metadata": {
        "colab": {
          "base_uri": "https://localhost:8080/"
        },
        "id": "PYeo1NHlux8f",
        "outputId": "229510b7-4760-49da-b629-48b111cf02d5"
      },
      "execution_count": null,
      "outputs": [
        {
          "output_type": "execute_result",
          "data": {
            "text/plain": [
              "float"
            ]
          },
          "metadata": {},
          "execution_count": 10
        }
      ]
    },
    {
      "cell_type": "code",
      "source": [
        "type(b[7])"
      ],
      "metadata": {
        "colab": {
          "base_uri": "https://localhost:8080/"
        },
        "id": "i_AQ4gYPu09-",
        "outputId": "6db7e349-e526-4394-9669-0d1c2830b33f"
      },
      "execution_count": null,
      "outputs": [
        {
          "output_type": "execute_result",
          "data": {
            "text/plain": [
              "tuple"
            ]
          },
          "metadata": {},
          "execution_count": 14
        }
      ]
    },
    {
      "cell_type": "markdown",
      "source": [
        "Q2. Given are some following variables containing data:"
      ],
      "metadata": {
        "id": "2O2pcDqCvaoz"
      }
    },
    {
      "cell_type": "code",
      "source": [
        "var1 = ''"
      ],
      "metadata": {
        "id": "skkck55FvHy9"
      },
      "execution_count": null,
      "outputs": []
    },
    {
      "cell_type": "code",
      "source": [
        "type(var1)"
      ],
      "metadata": {
        "colab": {
          "base_uri": "https://localhost:8080/"
        },
        "id": "_FSPYZhNvlt0",
        "outputId": "41c2d0bc-a57a-4d18-c5b3-909cb25b1cea"
      },
      "execution_count": null,
      "outputs": [
        {
          "output_type": "execute_result",
          "data": {
            "text/plain": [
              "str"
            ]
          },
          "metadata": {},
          "execution_count": 19
        }
      ]
    },
    {
      "cell_type": "code",
      "source": [
        "var2 = '[ DS , ML , Python]'"
      ],
      "metadata": {
        "id": "FWgm1XNYv2Hz"
      },
      "execution_count": null,
      "outputs": []
    },
    {
      "cell_type": "code",
      "source": [
        "type(var2)"
      ],
      "metadata": {
        "colab": {
          "base_uri": "https://localhost:8080/"
        },
        "id": "gmrjf-1cv6-j",
        "outputId": "5c95a576-ac62-4d67-c226-693a157e38bf"
      },
      "execution_count": null,
      "outputs": [
        {
          "output_type": "execute_result",
          "data": {
            "text/plain": [
              "str"
            ]
          },
          "metadata": {},
          "execution_count": 22
        }
      ]
    },
    {
      "cell_type": "code",
      "source": [
        "var3 = [ 'DS' , 'ML', 'Python' ]"
      ],
      "metadata": {
        "id": "5LwRzMzEwB-C"
      },
      "execution_count": null,
      "outputs": []
    },
    {
      "cell_type": "code",
      "source": [
        "type(var3)"
      ],
      "metadata": {
        "colab": {
          "base_uri": "https://localhost:8080/"
        },
        "id": "AAt3Jyg5wJgS",
        "outputId": "cd088e77-9db5-4b37-b631-674d9e3a209b"
      },
      "execution_count": null,
      "outputs": [
        {
          "output_type": "execute_result",
          "data": {
            "text/plain": [
              "list"
            ]
          },
          "metadata": {},
          "execution_count": 24
        }
      ]
    },
    {
      "cell_type": "code",
      "source": [
        "var4 = 1."
      ],
      "metadata": {
        "id": "dy-hFy7lwLZy"
      },
      "execution_count": null,
      "outputs": []
    },
    {
      "cell_type": "code",
      "source": [
        "type(var4)"
      ],
      "metadata": {
        "colab": {
          "base_uri": "https://localhost:8080/"
        },
        "id": "9lIVG2wawPK0",
        "outputId": "0949bafb-9d0c-4bdc-8b6e-8be2c0b73de9"
      },
      "execution_count": null,
      "outputs": [
        {
          "output_type": "execute_result",
          "data": {
            "text/plain": [
              "float"
            ]
          },
          "metadata": {},
          "execution_count": 27
        }
      ]
    },
    {
      "cell_type": "markdown",
      "source": [
        "Q3. Explain the use of the following operators using an example:\n",
        "\n",
        "(i) / = division\n",
        "(ii) % = Percentile\n",
        "(iii) // =Float Division\n",
        "(iv) ** = Multiply"
      ],
      "metadata": {
        "id": "BAg2zH8JwcIX"
      }
    },
    {
      "cell_type": "code",
      "source": [
        "24/4"
      ],
      "metadata": {
        "colab": {
          "base_uri": "https://localhost:8080/"
        },
        "id": "iUk_qAaDwRxh",
        "outputId": "a609a820-0c42-4995-cb9c-59e2f5aa4210"
      },
      "execution_count": null,
      "outputs": [
        {
          "output_type": "execute_result",
          "data": {
            "text/plain": [
              "6.0"
            ]
          },
          "metadata": {},
          "execution_count": 6
        }
      ]
    },
    {
      "cell_type": "code",
      "source": [
        "2%20"
      ],
      "metadata": {
        "id": "IFBrb3B1wpyZ",
        "colab": {
          "base_uri": "https://localhost:8080/"
        },
        "outputId": "7b6eaea8-fa17-4634-b0d4-0ea843f5e254"
      },
      "execution_count": null,
      "outputs": [
        {
          "output_type": "execute_result",
          "data": {
            "text/plain": [
              "2"
            ]
          },
          "metadata": {},
          "execution_count": 10
        }
      ]
    },
    {
      "cell_type": "code",
      "source": [
        "x=15\n",
        "y=2\n",
        "print(x//y)"
      ],
      "metadata": {
        "colab": {
          "base_uri": "https://localhost:8080/"
        },
        "id": "iNV87rjCdZj0",
        "outputId": "7bf17521-4548-4399-b05c-393dba8348b0"
      },
      "execution_count": null,
      "outputs": [
        {
          "output_type": "stream",
          "name": "stdout",
          "text": [
            "7\n"
          ]
        }
      ]
    },
    {
      "cell_type": "code",
      "source": [
        "2**4 #2*2*2*2"
      ],
      "metadata": {
        "colab": {
          "base_uri": "https://localhost:8080/"
        },
        "id": "Hi2FpHLjd6nn",
        "outputId": "8246bae2-a160-4f61-894c-71a1f4f370e4"
      },
      "execution_count": null,
      "outputs": [
        {
          "output_type": "execute_result",
          "data": {
            "text/plain": [
              "16"
            ]
          },
          "metadata": {},
          "execution_count": 12
        }
      ]
    },
    {
      "cell_type": "markdown",
      "source": [
        "Q4. Create a list of length 10 of your choice containing multiple types of data. Using for loop print the\n",
        "element and its data type."
      ],
      "metadata": {
        "id": "hNMlIEXdiSAI"
      }
    },
    {
      "cell_type": "code",
      "source": [
        "k=[2,5,78,14,5.658,True,\"Rushi\",9+45j,False,'sid']"
      ],
      "metadata": {
        "id": "LnvZyNZPe7RU"
      },
      "execution_count": null,
      "outputs": []
    },
    {
      "cell_type": "code",
      "source": [
        "type(k)"
      ],
      "metadata": {
        "colab": {
          "base_uri": "https://localhost:8080/"
        },
        "id": "4JW-JV_giyL0",
        "outputId": "8ff964bd-c00f-4e2b-e884-f15540c7f020"
      },
      "execution_count": null,
      "outputs": [
        {
          "output_type": "execute_result",
          "data": {
            "text/plain": [
              "list"
            ]
          },
          "metadata": {},
          "execution_count": 19
        }
      ]
    },
    {
      "cell_type": "code",
      "source": [
        "for i in k:\n",
        "  print(i)\n",
        "\n",
        "  print(type(i))"
      ],
      "metadata": {
        "colab": {
          "base_uri": "https://localhost:8080/"
        },
        "id": "h7G5E-GOkIqE",
        "outputId": "38e31cd4-c779-4ecc-97a5-a7cb077d6a82"
      },
      "execution_count": null,
      "outputs": [
        {
          "output_type": "stream",
          "name": "stdout",
          "text": [
            "2\n",
            "<class 'int'>\n",
            "5\n",
            "<class 'int'>\n",
            "78\n",
            "<class 'int'>\n",
            "14\n",
            "<class 'int'>\n",
            "5.658\n",
            "<class 'float'>\n",
            "True\n",
            "<class 'bool'>\n",
            "Rushi\n",
            "<class 'str'>\n",
            "(9+45j)\n",
            "<class 'complex'>\n",
            "False\n",
            "<class 'bool'>\n",
            "sid\n",
            "<class 'str'>\n"
          ]
        }
      ]
    },
    {
      "cell_type": "markdown",
      "source": [
        "Q5. Using a while loop, verify if the number A is purely divisible by number B and if so then how many\n",
        "times it can be divisible."
      ],
      "metadata": {
        "id": "cAoHZlvEl6wW"
      }
    },
    {
      "cell_type": "code",
      "source": [
        "a=24\n",
        "b=2\n",
        "\n",
        "while a>b:\n",
        "  print(b)\n",
        "  b=b//a\n",
        "\n",
        "  break"
      ],
      "metadata": {
        "colab": {
          "base_uri": "https://localhost:8080/"
        },
        "id": "IyxkYgn4mdfR",
        "outputId": "af259f1f-0ae6-44f6-fbc3-b32688597073"
      },
      "execution_count": null,
      "outputs": [
        {
          "output_type": "stream",
          "name": "stdout",
          "text": [
            "2\n"
          ]
        }
      ]
    },
    {
      "cell_type": "markdown",
      "source": [
        "Q6. Create a list containing 25 int type data. Using for loop and if-else condition print if the element is\n",
        "divisible by 3 or not."
      ],
      "metadata": {
        "id": "eMBPjXXnsedv"
      }
    },
    {
      "cell_type": "code",
      "source": [
        "l=[1,2,3,4,5,6,7,8,9,10,11,12,13,14,15,16,17,18,19,20,21,22,23,24,25]"
      ],
      "metadata": {
        "id": "JyVIZxbhnG7n"
      },
      "execution_count": null,
      "outputs": []
    },
    {
      "cell_type": "code",
      "source": [
        "for n in l :\n",
        " if n%3==0 :\n",
        "  print(n)\n",
        "else :\n",
        " print('element not divisible by 3')"
      ],
      "metadata": {
        "colab": {
          "base_uri": "https://localhost:8080/"
        },
        "id": "m-9CINkTszV3",
        "outputId": "9a0d377d-5625-4d2e-86eb-061df77c087c"
      },
      "execution_count": null,
      "outputs": [
        {
          "output_type": "stream",
          "name": "stdout",
          "text": [
            "3\n",
            "6\n",
            "9\n",
            "12\n",
            "15\n",
            "18\n",
            "21\n",
            "24\n",
            "element not divisible by 3\n"
          ]
        }
      ]
    },
    {
      "cell_type": "markdown",
      "source": [
        "Q7. What do you understand about mutable and immutable data types? Give examples for both showing\n",
        "this property.\n",
        "\n"
      ],
      "metadata": {
        "id": "AGWQA-hcv3kc"
      }
    },
    {
      "cell_type": "markdown",
      "source": [
        "Mutable data type are those inwhich we can change data and Immutable data types are those in which we can't change our data.\n",
        "\n"
      ],
      "metadata": {
        "id": "LOfgeH6LwBL6"
      }
    },
    {
      "cell_type": "code",
      "source": [
        "#examples of immutable data types\n",
        "\n",
        "u=['Ram','Lakhan','Bharat','Bheem']\n"
      ],
      "metadata": {
        "id": "MDkkUaolwRcS"
      },
      "execution_count": null,
      "outputs": []
    },
    {
      "cell_type": "code",
      "source": [
        "u[-1]=='krishna'"
      ],
      "metadata": {
        "colab": {
          "base_uri": "https://localhost:8080/"
        },
        "id": "_wlyu5RhwjQm",
        "outputId": "7b8a6614-27b9-4d6b-e3be-b18da807a8c4"
      },
      "execution_count": null,
      "outputs": [
        {
          "output_type": "execute_result",
          "data": {
            "text/plain": [
              "False"
            ]
          },
          "metadata": {},
          "execution_count": 29
        }
      ]
    },
    {
      "cell_type": "code",
      "source": [
        "#examples of mutable data types\n",
        "\n",
        "t=[25,98,23.25,True]"
      ],
      "metadata": {
        "id": "mJ8WlcPvwoFr"
      },
      "execution_count": null,
      "outputs": []
    },
    {
      "cell_type": "code",
      "source": [
        "t[-2]=54"
      ],
      "metadata": {
        "id": "y-iL6ZAfw0Qq"
      },
      "execution_count": null,
      "outputs": []
    },
    {
      "cell_type": "code",
      "source": [
        "t"
      ],
      "metadata": {
        "colab": {
          "base_uri": "https://localhost:8080/"
        },
        "id": "zB1P3_A1w2yS",
        "outputId": "64a194b9-7a0c-487a-b8eb-bfde9b0db0ae"
      },
      "execution_count": null,
      "outputs": [
        {
          "output_type": "execute_result",
          "data": {
            "text/plain": [
              "[25, 98, 54, True]"
            ]
          },
          "metadata": {},
          "execution_count": 28
        }
      ]
    }
  ]
}